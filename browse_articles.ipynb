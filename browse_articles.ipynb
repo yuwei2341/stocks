{
 "cells": [
  {
   "cell_type": "code",
   "execution_count": 50,
   "id": "02b3b3f3",
   "metadata": {},
   "outputs": [],
   "source": [
    "from selenium import webdriver\n",
    "from selenium.webdriver.common.by import By\n",
    "from selenium.webdriver.support.ui import WebDriverWait\n",
    "from selenium.webdriver.support import expected_conditions as EC\n",
    "from selenium.webdriver.chrome.service import Service\n",
    "from webdriver_manager.chrome import ChromeDriverManager\n",
    "\n",
    "def open_and_click_buttons(url_list, \n",
    "    button_selector='button[id*=\"trigger-archive\"]',\n",
    "    link_selector='seekingalpha.com',\n",
    "    ):\n",
    "    # Set up the Chrome driver\n",
    "    service = Service(ChromeDriverManager().install())\n",
    "    driver = webdriver.Chrome(service=service)\n",
    "\n",
    "    for url in url_list:\n",
    "        try:\n",
    "            # Open the URL\n",
    "            driver.get(url)\n",
    "\n",
    "            # Wait for the button to be present and clickable\n",
    "            try:\n",
    "                # Wait up to 10 seconds for the element to be present\n",
    "                button = WebDriverWait(driver, 10).until(\n",
    "                    EC.presence_of_element_located((By.CSS_SELECTOR, button_selector))\n",
    "                )\n",
    "                \n",
    "                # Wait up to 10 seconds for the element to be clickable\n",
    "                clickable_button = WebDriverWait(driver, 10).until(\n",
    "                    EC.element_to_be_clickable((By.CSS_SELECTOR, button_selector))\n",
    "                )\n",
    "                clickable_button.click()\n",
    "\n",
    "                link = WebDriverWait(driver, 10).until(\n",
    "                    EC.element_to_be_clickable((By.LINK_TEXT, link_selector))\n",
    "                )\n",
    "                link.click()\n",
    "\n",
    "                print(f\"Button clicked successfully on {url}\")\n",
    "                \n",
    "            except Exception as e:\n",
    "                print(f\"Error waiting for the button on {url}: {e}\")\n",
    "\n",
    "            # Keep the browser open until you press Enter to proceed to the next URL\n",
    "            input(f\"Press Enter to close {url} and proceed to the next website...\")\n",
    "\n",
    "        except Exception as e:\n",
    "            print(f\"An error occurred while processing {url}: {e}\")\n",
    "\n",
    "    # Close the browser after all URLs are processed\n",
    "    driver.quit()"
   ]
  },
  {
   "cell_type": "code",
   "execution_count": 51,
   "id": "73dad331",
   "metadata": {},
   "outputs": [
    {
     "name": "stdout",
     "output_type": "stream",
     "text": [
      "Button clicked successfully on https://www.smry.ai/https://seekingalpha.com/article/4776083-gold-guns-and-the-market-what-rising-tensions-really-mean-for-your-portfolio\n"
     ]
    }
   ],
   "source": [
    "urls_to_open = [\n",
    "    \"https://seekingalpha.com/article/4776083-gold-guns-and-the-market-what-rising-tensions-really-mean-for-your-portfolio\",\n",
    "]\n",
    "url_prefix = 'https://www.smry.ai/'\n",
    "open_and_click_buttons([url_prefix + url for url in urls_to_open])"
   ]
  }
 ],
 "metadata": {
  "kernelspec": {
   "display_name": "penv_stock",
   "language": "python",
   "name": "python3"
  },
  "language_info": {
   "codemirror_mode": {
    "name": "ipython",
    "version": 3
   },
   "file_extension": ".py",
   "mimetype": "text/x-python",
   "name": "python",
   "nbconvert_exporter": "python",
   "pygments_lexer": "ipython3",
   "version": "3.11.4"
  }
 },
 "nbformat": 4,
 "nbformat_minor": 5
}
